{
 "cells": [
  {
   "cell_type": "code",
   "execution_count": 1,
   "id": "690a8847",
   "metadata": {
    "_cell_guid": "b1076dfc-b9ad-4769-8c92-a6c4dae69d19",
    "_uuid": "8f2839f25d086af736a60e9eeb907d3b93b6e0e5",
    "execution": {
     "iopub.execute_input": "2023-12-26T05:01:34.154759Z",
     "iopub.status.busy": "2023-12-26T05:01:34.154007Z",
     "iopub.status.idle": "2023-12-26T05:01:36.031728Z",
     "shell.execute_reply": "2023-12-26T05:01:36.030509Z"
    },
    "papermill": {
     "duration": 1.893819,
     "end_time": "2023-12-26T05:01:36.034438",
     "exception": false,
     "start_time": "2023-12-26T05:01:34.140619",
     "status": "completed"
    },
    "tags": []
   },
   "outputs": [
    {
     "name": "stdout",
     "output_type": "stream",
     "text": [
      "/kaggle/input/natural-language-processing-with-disaster-tweets/sample_submission.csv\n",
      "/kaggle/input/natural-language-processing-with-disaster-tweets/train.csv\n",
      "/kaggle/input/natural-language-processing-with-disaster-tweets/test.csv\n"
     ]
    }
   ],
   "source": [
    "# This Python 3 environment comes with many helpful analytics libraries installed\n",
    "# It is defined by the kaggle/python Docker image: https://github.com/kaggle/docker-python\n",
    "# For example, here's several helpful packages to load\n",
    "\n",
    "import numpy as np # linear algebra\n",
    "import pandas as pd # data processing, CSV file I/O (e.g. pd.read_csv)\n",
    "import matplotlib.pyplot as plt\n",
    "import seaborn as sns\n",
    "\n",
    "import warnings\n",
    "warnings.filterwarnings('ignore')\n",
    "\n",
    "sns.set_style('darkgrid')\n",
    "%matplotlib inline\n",
    "\n",
    "import os\n",
    "for dirname, _, filenames in os.walk('/kaggle/input'):\n",
    "    for filename in filenames:\n",
    "        print(os.path.join(dirname, filename))\n",
    "\n"
   ]
  },
  {
   "cell_type": "markdown",
   "id": "eec82c88",
   "metadata": {
    "papermill": {
     "duration": 0.010659,
     "end_time": "2023-12-26T05:01:36.056548",
     "exception": false,
     "start_time": "2023-12-26T05:01:36.045889",
     "status": "completed"
    },
    "tags": []
   },
   "source": [
    "**Part I: Exploratory Data Analysis**"
   ]
  },
  {
   "cell_type": "code",
   "execution_count": 2,
   "id": "6f4d9ed0",
   "metadata": {
    "execution": {
     "iopub.execute_input": "2023-12-26T05:01:36.081512Z",
     "iopub.status.busy": "2023-12-26T05:01:36.080461Z",
     "iopub.status.idle": "2023-12-26T05:01:36.139193Z",
     "shell.execute_reply": "2023-12-26T05:01:36.137898Z"
    },
    "papermill": {
     "duration": 0.074235,
     "end_time": "2023-12-26T05:01:36.142252",
     "exception": false,
     "start_time": "2023-12-26T05:01:36.068017",
     "status": "completed"
    },
    "tags": []
   },
   "outputs": [],
   "source": [
    "#Load in Data\n",
    "df = pd.read_csv(\"/kaggle/input/natural-language-processing-with-disaster-tweets/train.csv\")"
   ]
  },
  {
   "cell_type": "code",
   "execution_count": 3,
   "id": "04274748",
   "metadata": {
    "execution": {
     "iopub.execute_input": "2023-12-26T05:01:36.166514Z",
     "iopub.status.busy": "2023-12-26T05:01:36.166103Z",
     "iopub.status.idle": "2023-12-26T05:01:36.206476Z",
     "shell.execute_reply": "2023-12-26T05:01:36.205087Z"
    },
    "papermill": {
     "duration": 0.055617,
     "end_time": "2023-12-26T05:01:36.209129",
     "exception": false,
     "start_time": "2023-12-26T05:01:36.153512",
     "status": "completed"
    },
    "tags": []
   },
   "outputs": [
    {
     "name": "stdout",
     "output_type": "stream",
     "text": [
      "Number of Rows: 7613, Number of Columns:5\n",
      "\n",
      "\n",
      "<class 'pandas.core.frame.DataFrame'>\n",
      "RangeIndex: 7613 entries, 0 to 7612\n",
      "Data columns (total 5 columns):\n",
      " #   Column    Non-Null Count  Dtype \n",
      "---  ------    --------------  ----- \n",
      " 0   id        7613 non-null   int64 \n",
      " 1   keyword   7552 non-null   object\n",
      " 2   location  5080 non-null   object\n",
      " 3   text      7613 non-null   object\n",
      " 4   target    7613 non-null   int64 \n",
      "dtypes: int64(2), object(3)\n",
      "memory usage: 297.5+ KB\n",
      "None\n"
     ]
    }
   ],
   "source": [
    "#Get Summary of Data\n",
    "print('Number of Rows: {}, Number of Columns:{}\\n\\n'.format(*df.shape))\n",
    "print(df.info())"
   ]
  },
  {
   "cell_type": "code",
   "execution_count": 4,
   "id": "ffe2c310",
   "metadata": {
    "execution": {
     "iopub.execute_input": "2023-12-26T05:01:36.234601Z",
     "iopub.status.busy": "2023-12-26T05:01:36.233430Z",
     "iopub.status.idle": "2023-12-26T05:01:36.252115Z",
     "shell.execute_reply": "2023-12-26T05:01:36.250932Z"
    },
    "papermill": {
     "duration": 0.034046,
     "end_time": "2023-12-26T05:01:36.254685",
     "exception": false,
     "start_time": "2023-12-26T05:01:36.220639",
     "status": "completed"
    },
    "tags": []
   },
   "outputs": [
    {
     "data": {
      "text/html": [
       "<div>\n",
       "<style scoped>\n",
       "    .dataframe tbody tr th:only-of-type {\n",
       "        vertical-align: middle;\n",
       "    }\n",
       "\n",
       "    .dataframe tbody tr th {\n",
       "        vertical-align: top;\n",
       "    }\n",
       "\n",
       "    .dataframe thead th {\n",
       "        text-align: right;\n",
       "    }\n",
       "</style>\n",
       "<table border=\"1\" class=\"dataframe\">\n",
       "  <thead>\n",
       "    <tr style=\"text-align: right;\">\n",
       "      <th></th>\n",
       "      <th>id</th>\n",
       "      <th>keyword</th>\n",
       "      <th>location</th>\n",
       "      <th>text</th>\n",
       "      <th>target</th>\n",
       "    </tr>\n",
       "  </thead>\n",
       "  <tbody>\n",
       "    <tr>\n",
       "      <th>0</th>\n",
       "      <td>1</td>\n",
       "      <td>NaN</td>\n",
       "      <td>NaN</td>\n",
       "      <td>Our Deeds are the Reason of this #earthquake M...</td>\n",
       "      <td>1</td>\n",
       "    </tr>\n",
       "    <tr>\n",
       "      <th>1</th>\n",
       "      <td>4</td>\n",
       "      <td>NaN</td>\n",
       "      <td>NaN</td>\n",
       "      <td>Forest fire near La Ronge Sask. Canada</td>\n",
       "      <td>1</td>\n",
       "    </tr>\n",
       "    <tr>\n",
       "      <th>2</th>\n",
       "      <td>5</td>\n",
       "      <td>NaN</td>\n",
       "      <td>NaN</td>\n",
       "      <td>All residents asked to 'shelter in place' are ...</td>\n",
       "      <td>1</td>\n",
       "    </tr>\n",
       "    <tr>\n",
       "      <th>3</th>\n",
       "      <td>6</td>\n",
       "      <td>NaN</td>\n",
       "      <td>NaN</td>\n",
       "      <td>13,000 people receive #wildfires evacuation or...</td>\n",
       "      <td>1</td>\n",
       "    </tr>\n",
       "    <tr>\n",
       "      <th>4</th>\n",
       "      <td>7</td>\n",
       "      <td>NaN</td>\n",
       "      <td>NaN</td>\n",
       "      <td>Just got sent this photo from Ruby #Alaska as ...</td>\n",
       "      <td>1</td>\n",
       "    </tr>\n",
       "  </tbody>\n",
       "</table>\n",
       "</div>"
      ],
      "text/plain": [
       "   id keyword location                                               text  \\\n",
       "0   1     NaN      NaN  Our Deeds are the Reason of this #earthquake M...   \n",
       "1   4     NaN      NaN             Forest fire near La Ronge Sask. Canada   \n",
       "2   5     NaN      NaN  All residents asked to 'shelter in place' are ...   \n",
       "3   6     NaN      NaN  13,000 people receive #wildfires evacuation or...   \n",
       "4   7     NaN      NaN  Just got sent this photo from Ruby #Alaska as ...   \n",
       "\n",
       "   target  \n",
       "0       1  \n",
       "1       1  \n",
       "2       1  \n",
       "3       1  \n",
       "4       1  "
      ]
     },
     "execution_count": 4,
     "metadata": {},
     "output_type": "execute_result"
    }
   ],
   "source": [
    "df.head(5)"
   ]
  },
  {
   "cell_type": "code",
   "execution_count": 5,
   "id": "ceb3a07f",
   "metadata": {
    "execution": {
     "iopub.execute_input": "2023-12-26T05:01:36.280046Z",
     "iopub.status.busy": "2023-12-26T05:01:36.279647Z",
     "iopub.status.idle": "2023-12-26T05:01:36.289859Z",
     "shell.execute_reply": "2023-12-26T05:01:36.288979Z"
    },
    "papermill": {
     "duration": 0.025514,
     "end_time": "2023-12-26T05:01:36.292247",
     "exception": false,
     "start_time": "2023-12-26T05:01:36.266733",
     "status": "completed"
    },
    "tags": []
   },
   "outputs": [],
   "source": [
    "#drop duplicates\n",
    "df.drop_duplicates(subset=['text'],\n",
    "                       keep='first',\n",
    "                       inplace=True)\n"
   ]
  },
  {
   "cell_type": "code",
   "execution_count": 6,
   "id": "ed2418a9",
   "metadata": {
    "execution": {
     "iopub.execute_input": "2023-12-26T05:01:36.317712Z",
     "iopub.status.busy": "2023-12-26T05:01:36.317075Z",
     "iopub.status.idle": "2023-12-26T05:01:36.331054Z",
     "shell.execute_reply": "2023-12-26T05:01:36.329657Z"
    },
    "papermill": {
     "duration": 0.029659,
     "end_time": "2023-12-26T05:01:36.333747",
     "exception": false,
     "start_time": "2023-12-26T05:01:36.304088",
     "status": "completed"
    },
    "tags": []
   },
   "outputs": [
    {
     "name": "stdout",
     "output_type": "stream",
     "text": [
      "<class 'pandas.core.frame.DataFrame'>\n",
      "Index: 7503 entries, 0 to 7612\n",
      "Data columns (total 5 columns):\n",
      " #   Column    Non-Null Count  Dtype \n",
      "---  ------    --------------  ----- \n",
      " 0   id        7503 non-null   int64 \n",
      " 1   keyword   7447 non-null   object\n",
      " 2   location  5021 non-null   object\n",
      " 3   text      7503 non-null   object\n",
      " 4   target    7503 non-null   int64 \n",
      "dtypes: int64(2), object(3)\n",
      "memory usage: 351.7+ KB\n"
     ]
    }
   ],
   "source": [
    "#see new data spread\n",
    "df.info()"
   ]
  },
  {
   "cell_type": "code",
   "execution_count": 7,
   "id": "c436f225",
   "metadata": {
    "execution": {
     "iopub.execute_input": "2023-12-26T05:01:36.359073Z",
     "iopub.status.busy": "2023-12-26T05:01:36.358633Z",
     "iopub.status.idle": "2023-12-26T05:01:36.463198Z",
     "shell.execute_reply": "2023-12-26T05:01:36.461801Z"
    },
    "papermill": {
     "duration": 0.119931,
     "end_time": "2023-12-26T05:01:36.465596",
     "exception": false,
     "start_time": "2023-12-26T05:01:36.345665",
     "status": "completed"
    },
    "tags": []
   },
   "outputs": [],
   "source": [
    "df['text_length'] = df['text'].apply(len)\n",
    "df['text_hashtags'] = df['text'].str.count('#')\n",
    "target_count = df['target'].value_counts()"
   ]
  },
  {
   "cell_type": "code",
   "execution_count": 8,
   "id": "840b7bc0",
   "metadata": {
    "execution": {
     "iopub.execute_input": "2023-12-26T05:01:36.490802Z",
     "iopub.status.busy": "2023-12-26T05:01:36.490348Z",
     "iopub.status.idle": "2023-12-26T05:01:36.500269Z",
     "shell.execute_reply": "2023-12-26T05:01:36.499390Z"
    },
    "papermill": {
     "duration": 0.025312,
     "end_time": "2023-12-26T05:01:36.502629",
     "exception": false,
     "start_time": "2023-12-26T05:01:36.477317",
     "status": "completed"
    },
    "tags": []
   },
   "outputs": [
    {
     "name": "stdout",
     "output_type": "stream",
     "text": [
      "7\n",
      "157\n",
      "107.0\n",
      "100.88058110089298\n"
     ]
    }
   ],
   "source": [
    "#text length range\n",
    "print(df['text_length'].min())\n",
    "print(df['text_length'].max())\n",
    "print(df['text_length'].median())\n",
    "print(df['text_length'].mean())"
   ]
  },
  {
   "cell_type": "code",
   "execution_count": 9,
   "id": "ab19c27f",
   "metadata": {
    "execution": {
     "iopub.execute_input": "2023-12-26T05:01:36.528398Z",
     "iopub.status.busy": "2023-12-26T05:01:36.527512Z",
     "iopub.status.idle": "2023-12-26T05:01:37.505713Z",
     "shell.execute_reply": "2023-12-26T05:01:37.504791Z"
    },
    "papermill": {
     "duration": 0.993832,
     "end_time": "2023-12-26T05:01:37.508136",
     "exception": false,
     "start_time": "2023-12-26T05:01:36.514304",
     "status": "completed"
    },
    "tags": []
   },
   "outputs": [
    {
     "data": {
      "text/plain": [
       "Text(0.5, 1.0, 'Lengths of Tweets')"
      ]
     },
     "execution_count": 9,
     "metadata": {},
     "output_type": "execute_result"
    },
    {
     "data": {
      "image/png": "[encoded data removed]",
      "text/plain": [
       "<Figure size 1200x800 with 2 Axes>"
      ]
     },
     "metadata": {},
     "output_type": "display_data"
    }
   ],
   "source": [
    "#plot text lengths\n",
    "fig,ax = plt.subplots(2,1,figsize=(12,8))\n",
    "sns.histplot(x=df['text_length'], ax=ax[0]);\n",
    "sns.boxplot(x=df['text_length'], ax=ax[1]);\n",
    "ax[0].set_xlabel('text length')\n",
    "ax[0].set_ylabel('count of tweets')\n",
    "ax[0].axvline(df['text_length'].mean(),color='r')\n",
    "ax[1].set_xlabel('text length')\n",
    "ax[0].set_title('Lengths of Tweets')"
   ]
  },
  {
   "cell_type": "code",
   "execution_count": 10,
   "id": "62a3614f",
   "metadata": {
    "execution": {
     "iopub.execute_input": "2023-12-26T05:01:37.535649Z",
     "iopub.status.busy": "2023-12-26T05:01:37.534779Z",
     "iopub.status.idle": "2023-12-26T05:01:38.665367Z",
     "shell.execute_reply": "2023-12-26T05:01:38.664207Z"
    },
    "papermill": {
     "duration": 1.147298,
     "end_time": "2023-12-26T05:01:38.668132",
     "exception": false,
     "start_time": "2023-12-26T05:01:37.520834",
     "status": "completed"
    },
    "tags": []
   },
   "outputs": [
    {
     "data": {
      "image/png": "[encoded data removed]",
      "text/plain": [
       "<Figure size 600x600 with 3 Axes>"
      ]
     },
     "metadata": {},
     "output_type": "display_data"
    }
   ],
   "source": [
    "#plot frequency of hashtags against length of texts\n",
    "ax = sns.jointplot(x=df['text_length'],y=df['text_hashtags']);"
   ]
  },
  {
   "cell_type": "code",
   "execution_count": 11,
   "id": "a32fea57",
   "metadata": {
    "execution": {
     "iopub.execute_input": "2023-12-26T05:01:38.696953Z",
     "iopub.status.busy": "2023-12-26T05:01:38.696544Z",
     "iopub.status.idle": "2023-12-26T05:01:38.707546Z",
     "shell.execute_reply": "2023-12-26T05:01:38.706275Z"
    },
    "papermill": {
     "duration": 0.028113,
     "end_time": "2023-12-26T05:01:38.710046",
     "exception": false,
     "start_time": "2023-12-26T05:01:38.681933",
     "status": "completed"
    },
    "tags": []
   },
   "outputs": [
    {
     "name": "stdout",
     "output_type": "stream",
     "text": [
      "0.20820017459132784\n",
      "0.18099679429364185\n",
      "0.05951754415592287\n"
     ]
    }
   ],
   "source": [
    "print(df['text_length'].corr(df['text_hashtags']))\n",
    "print(df['text_length'].corr(df['target']))\n",
    "print(df['target'].corr(df['text_hashtags']))"
   ]
  },
  {
   "cell_type": "code",
   "execution_count": 12,
   "id": "906ebee6",
   "metadata": {
    "execution": {
     "iopub.execute_input": "2023-12-26T05:01:38.738037Z",
     "iopub.status.busy": "2023-12-26T05:01:38.737595Z",
     "iopub.status.idle": "2023-12-26T05:01:38.879587Z",
     "shell.execute_reply": "2023-12-26T05:01:38.878004Z"
    },
    "papermill": {
     "duration": 0.160864,
     "end_time": "2023-12-26T05:01:38.884176",
     "exception": false,
     "start_time": "2023-12-26T05:01:38.723312",
     "status": "completed"
    },
    "tags": []
   },
   "outputs": [
    {
     "name": "stdout",
     "output_type": "stream",
     "text": [
      "target\n",
      "0    4305\n",
      "1    3198\n",
      "Name: count, dtype: int64\n"
     ]
    },
    {
     "data": {
      "text/plain": [
       "<function matplotlib.pyplot.show(close=None, block=None)>"
      ]
     },
     "execution_count": 12,
     "metadata": {},
     "output_type": "execute_result"
    },
    {
     "data": {
      "image/png": "[encoded data removed]",
      "text/plain": [
       "<Figure size 640x480 with 1 Axes>"
      ]
     },
     "metadata": {},
     "output_type": "display_data"
    }
   ],
   "source": [
    "#plot target\n",
    "print(target_count)\n",
    "plt.pie(target_count, labels=[0,1]);\n",
    "plt.show"
   ]
  },
  {
   "cell_type": "markdown",
   "id": "c3816363",
   "metadata": {
    "papermill": {
     "duration": 0.032344,
     "end_time": "2023-12-26T05:01:38.946342",
     "exception": false,
     "start_time": "2023-12-26T05:01:38.913998",
     "status": "completed"
    },
    "tags": []
   },
   "source": [
    "From our exploratory data analysis, we find that there are 7,613 rows and 5 columns in our dataset. Each row represents a tweet and the text column stores the string. From this column, we can extract the length of each tweet (number of characters) and number of hashtags in each tweet. The length of tweets range from 7 to 157, and the frequency can see be seen on the histogram plot where the red line represents the average of 101 characters. In the box plot it can be seen there is a slightly higher median of 107, and a slight skew with a tail to the left. From the joint plot and correlation values calculated, it can be seen there is little correlation between the tweet length, number of hashtags used, and whether or not it is labeled as a disaster. There is also a relatively even split between the target counts with 4305 vs 3198 for 0 and 1 respectively."
   ]
  },
  {
   "cell_type": "markdown",
   "id": "a1a9119a",
   "metadata": {
    "papermill": {
     "duration": 0.01438,
     "end_time": "2023-12-26T05:01:38.977449",
     "exception": false,
     "start_time": "2023-12-26T05:01:38.963069",
     "status": "completed"
    },
    "tags": []
   },
   "source": [
    "**Part II: Data Preprocessing**"
   ]
  },
  {
   "cell_type": "markdown",
   "id": "61130d3f",
   "metadata": {
    "papermill": {
     "duration": 0.013576,
     "end_time": "2023-12-26T05:01:39.005827",
     "exception": false,
     "start_time": "2023-12-26T05:01:38.992251",
     "status": "completed"
    },
    "tags": []
   },
   "source": [
    "*a. Dealing with Missing Variables*"
   ]
  },
  {
   "cell_type": "markdown",
   "id": "0b0d1b62",
   "metadata": {
    "papermill": {
     "duration": 0.013634,
     "end_time": "2023-12-26T05:01:39.033848",
     "exception": false,
     "start_time": "2023-12-26T05:01:39.020214",
     "status": "completed"
    },
    "tags": []
   },
   "source": [
    "Based on the data info summary, there is no missing text from any of the rows (7316 non-null). Thus, although there are missing values in other columns, we only need the text column and do not need to deal with any missing variables."
   ]
  },
  {
   "cell_type": "markdown",
   "id": "cded2515",
   "metadata": {
    "papermill": {
     "duration": 0.013371,
     "end_time": "2023-12-26T05:01:39.061113",
     "exception": false,
     "start_time": "2023-12-26T05:01:39.047742",
     "status": "completed"
    },
    "tags": []
   },
   "source": [
    "*b. Other Preprocessing*"
   ]
  },
  {
   "cell_type": "markdown",
   "id": "e96dff08",
   "metadata": {
    "papermill": {
     "duration": 0.013421,
     "end_time": "2023-12-26T05:01:39.088382",
     "exception": false,
     "start_time": "2023-12-26T05:01:39.074961",
     "status": "completed"
    },
    "tags": []
   },
   "source": [
    "We want to preprocess our text to keep non-word characters (including hashtags,exclamations) for one of our tokenizers so that we can test with and without"
   ]
  },
  {
   "cell_type": "code",
   "execution_count": 13,
   "id": "c3fb5032",
   "metadata": {
    "execution": {
     "iopub.execute_input": "2023-12-26T05:01:39.118416Z",
     "iopub.status.busy": "2023-12-26T05:01:39.117299Z",
     "iopub.status.idle": "2023-12-26T05:01:39.133328Z",
     "shell.execute_reply": "2023-12-26T05:01:39.131618Z"
    },
    "papermill": {
     "duration": 0.033667,
     "end_time": "2023-12-26T05:01:39.135987",
     "exception": false,
     "start_time": "2023-12-26T05:01:39.102320",
     "status": "completed"
    },
    "tags": []
   },
   "outputs": [
    {
     "name": "stdout",
     "output_type": "stream",
     "text": [
      "0    our deeds are the reason of this #earthquake m...\n",
      "1               forest fire near la ronge sask. canada\n",
      "2    all residents asked to 'shelter in place' are ...\n",
      "3    13,000 people receive #wildfires evacuation or...\n",
      "4    just got sent this photo from ruby #alaska as ...\n",
      "Name: text_processed, dtype: object\n"
     ]
    }
   ],
   "source": [
    "def preprocessing(text):\n",
    "    text = text.lower()\n",
    "    return text\n",
    "\n",
    "df['text_processed'] = df['text'].apply(preprocessing)\n",
    "print(df['text_processed'].head(5))\n",
    "    \n"
   ]
  },
  {
   "cell_type": "markdown",
   "id": "2afd7dc5",
   "metadata": {
    "papermill": {
     "duration": 0.014268,
     "end_time": "2023-12-26T05:01:39.164309",
     "exception": false,
     "start_time": "2023-12-26T05:01:39.150041",
     "status": "completed"
    },
    "tags": []
   },
   "source": [
    "*c. Tokenization*"
   ]
  },
  {
   "cell_type": "markdown",
   "id": "9a6ee82d",
   "metadata": {
    "papermill": {
     "duration": 0.014877,
     "end_time": "2023-12-26T05:01:39.193659",
     "exception": false,
     "start_time": "2023-12-26T05:01:39.178782",
     "status": "completed"
    },
    "tags": []
   },
   "source": [
    "We will test with two tokenizers, one that splits the processed text by whitespace, and another which lemmatizes the words and removes the non-word characters"
   ]
  },
  {
   "cell_type": "code",
   "execution_count": 14,
   "id": "fc88df7d",
   "metadata": {
    "execution": {
     "iopub.execute_input": "2023-12-26T05:01:39.223855Z",
     "iopub.status.busy": "2023-12-26T05:01:39.223390Z",
     "iopub.status.idle": "2023-12-26T05:01:39.230914Z",
     "shell.execute_reply": "2023-12-26T05:01:39.230043Z"
    },
    "papermill": {
     "duration": 0.025001,
     "end_time": "2023-12-26T05:01:39.233106",
     "exception": false,
     "start_time": "2023-12-26T05:01:39.208105",
     "status": "completed"
    },
    "tags": []
   },
   "outputs": [
    {
     "data": {
      "text/plain": [
       "'\\nimport re\\nimport spacy\\n\\nnlp = spacy.load(\\'en_core_web_sm\\')\\nlemmatizer = nlp.get_pipe(\\'lemmatizer\\')\\n\\ndef tokenizer(tweet):\\n    #tokenizer 1\\n    doc = nlp(tweet)\\n    tokens = [token.text for token in doc]\\n    return tokens\\n    \\ndef lemma_tokenizer(tweet):\\n    \\n    try:\\n        #tokenizer 2\\n        doc = nlp(tweet)\\n        tokens = []\\n\\n        for token in doc:\\n            t = token.lemma_\\n            new_token = re.subn(r\\'\\\\W\\',\\'\\',t,count=len(t))\\n            if new_token[0] == \\'\\':\\n                continue\\n            tokens.append(new_token[0])\\n\\n        return tokens\\n    except Exception as e:\\n        print(f\"Exception in lemma_tokenizer: {e}\")\\n        return None\\n'"
      ]
     },
     "execution_count": 14,
     "metadata": {},
     "output_type": "execute_result"
    }
   ],
   "source": [
    "'''\n",
    "import re\n",
    "import spacy\n",
    "\n",
    "nlp = spacy.load('en_core_web_sm')\n",
    "lemmatizer = nlp.get_pipe('lemmatizer')\n",
    "\n",
    "def tokenizer(tweet):\n",
    "    #tokenizer 1\n",
    "    doc = nlp(tweet)\n",
    "    tokens = [token.text for token in doc]\n",
    "    return tokens\n",
    "    \n",
    "def lemma_tokenizer(tweet):\n",
    "    \n",
    "    try:\n",
    "        #tokenizer 2\n",
    "        doc = nlp(tweet)\n",
    "        tokens = []\n",
    "\n",
    "        for token in doc:\n",
    "            t = token.lemma_\n",
    "            new_token = re.subn(r'\\W','',t,count=len(t))\n",
    "            if new_token[0] == '':\n",
    "                continue\n",
    "            tokens.append(new_token[0])\n",
    "\n",
    "        return tokens\n",
    "    except Exception as e:\n",
    "        print(f\"Exception in lemma_tokenizer: {e}\")\n",
    "        return None\n",
    "'''"
   ]
  },
  {
   "cell_type": "code",
   "execution_count": 15,
   "id": "ae328c0d",
   "metadata": {
    "execution": {
     "iopub.execute_input": "2023-12-26T05:01:39.263045Z",
     "iopub.status.busy": "2023-12-26T05:01:39.262595Z",
     "iopub.status.idle": "2023-12-26T05:01:39.269234Z",
     "shell.execute_reply": "2023-12-26T05:01:39.268264Z"
    },
    "papermill": {
     "duration": 0.024102,
     "end_time": "2023-12-26T05:01:39.271337",
     "exception": false,
     "start_time": "2023-12-26T05:01:39.247235",
     "status": "completed"
    },
    "tags": []
   },
   "outputs": [
    {
     "data": {
      "text/plain": [
       "\"\\ndf['tokenized'] = df['text_processed'].apply(tokenizer)\\ndf['tokenized_lemma'] = df['text_processed'].apply(lemma_tokenizer)\\ndisplay(df.head(5))\\n\""
      ]
     },
     "execution_count": 15,
     "metadata": {},
     "output_type": "execute_result"
    }
   ],
   "source": [
    "'''\n",
    "df['tokenized'] = df['text_processed'].apply(tokenizer)\n",
    "df['tokenized_lemma'] = df['text_processed'].apply(lemma_tokenizer)\n",
    "display(df.head(5))\n",
    "'''"
   ]
  },
  {
   "cell_type": "markdown",
   "id": "aadbf793",
   "metadata": {
    "papermill": {
     "duration": 0.013888,
     "end_time": "2023-12-26T05:01:39.360883",
     "exception": false,
     "start_time": "2023-12-26T05:01:39.346995",
     "status": "completed"
    },
    "tags": []
   },
   "source": [
    "**Part III. Model Selection**"
   ]
  },
  {
   "cell_type": "markdown",
   "id": "ed71f6f6",
   "metadata": {
    "papermill": {
     "duration": 0.014213,
     "end_time": "2023-12-26T05:01:39.389304",
     "exception": false,
     "start_time": "2023-12-26T05:01:39.375091",
     "status": "completed"
    },
    "tags": []
   },
   "source": [
    "Since we are given the training set, we do not need to utilize train_test_split. We will fit the processed text and target values using GridSearchCV to find the best parameters for our GradientBoostingClassifier. It will test between unigrams and bigrams as well as our two different tokenizers. We also will try multiple max depths for the classifer."
   ]
  },
  {
   "cell_type": "code",
   "execution_count": 16,
   "id": "9b032e91",
   "metadata": {
    "execution": {
     "iopub.execute_input": "2023-12-26T05:01:39.421207Z",
     "iopub.status.busy": "2023-12-26T05:01:39.420786Z",
     "iopub.status.idle": "2023-12-26T05:01:39.426684Z",
     "shell.execute_reply": "2023-12-26T05:01:39.425830Z"
    },
    "papermill": {
     "duration": 0.024763,
     "end_time": "2023-12-26T05:01:39.429091",
     "exception": false,
     "start_time": "2023-12-26T05:01:39.404328",
     "status": "completed"
    },
    "tags": []
   },
   "outputs": [
    {
     "name": "stdout",
     "output_type": "stream",
     "text": [
      "['our deeds are the reason of this #earthquake may allah forgive us all'\n",
      " 'forest fire near la ronge sask. canada'\n",
      " \"all residents asked to 'shelter in place' are being notified by officers. no other evacuation or shelter in place orders are expected\"\n",
      " '13,000 people receive #wildfires evacuation orders in california '\n",
      " 'just got sent this photo from ruby #alaska as smoke from #wildfires pours into a school ']\n"
     ]
    }
   ],
   "source": [
    "#given training set, so no need to train_test_split\n",
    "X_train = df.text_processed.values\n",
    "y_train = df.target.values\n",
    "\n",
    "print(X_train[0:5])"
   ]
  },
  {
   "cell_type": "code",
   "execution_count": null,
   "id": "8973b8c4",
   "metadata": {
    "papermill": {
     "duration": 0.014367,
     "end_time": "2023-12-26T05:01:39.458220",
     "exception": false,
     "start_time": "2023-12-26T05:01:39.443853",
     "status": "completed"
    },
    "tags": []
   },
   "outputs": [],
   "source": []
  },
  {
   "cell_type": "code",
   "execution_count": 17,
   "id": "75bb30a1",
   "metadata": {
    "execution": {
     "iopub.execute_input": "2023-12-26T05:01:39.489984Z",
     "iopub.status.busy": "2023-12-26T05:01:39.489256Z",
     "iopub.status.idle": "2023-12-26T05:01:39.790656Z",
     "shell.execute_reply": "2023-12-26T05:01:39.789461Z"
    },
    "papermill": {
     "duration": 0.320155,
     "end_time": "2023-12-26T05:01:39.793385",
     "exception": false,
     "start_time": "2023-12-26T05:01:39.473230",
     "status": "completed"
    },
    "tags": []
   },
   "outputs": [
    {
     "name": "stdout",
     "output_type": "stream",
     "text": [
      "mean: 0.0, std:0.0\n"
     ]
    }
   ],
   "source": [
    "from sklearn.dummy import DummyClassifier\n",
    "from sklearn.model_selection import cross_val_score\n",
    "\n",
    "dummy_c = DummyClassifier(strategy='most_frequent').fit(X_train,y_train)\n",
    "f1 = cross_val_score(dummy_c, X_train, y_train, cv=5, scoring='f1')\n",
    "\n",
    "print(f\"mean: {f1.mean().round(2)}, std:{f1.std().round(2)}\")"
   ]
  },
  {
   "cell_type": "code",
   "execution_count": 18,
   "id": "6d932847",
   "metadata": {
    "execution": {
     "iopub.execute_input": "2023-12-26T05:01:39.826144Z",
     "iopub.status.busy": "2023-12-26T05:01:39.825752Z",
     "iopub.status.idle": "2023-12-26T05:02:10.260131Z",
     "shell.execute_reply": "2023-12-26T05:02:10.258635Z"
    },
    "papermill": {
     "duration": 30.471762,
     "end_time": "2023-12-26T05:02:10.280372",
     "exception": false,
     "start_time": "2023-12-26T05:01:39.808610",
     "status": "completed"
    },
    "tags": []
   },
   "outputs": [
    {
     "name": "stdout",
     "output_type": "stream",
     "text": [
      "best parameters  : {'dt__max_depth': 5, 'vect__max_df': 0.5, 'vect__max_features': 5000, 'vect__ngram_range': (1, 1)}\n",
      "best cv accuracy : 0.58\n"
     ]
    }
   ],
   "source": [
    "import warnings\n",
    "from sklearn.pipeline import Pipeline\n",
    "from sklearn.feature_extraction.text import TfidfVectorizer\n",
    "from sklearn.model_selection import GridSearchCV\n",
    "from sklearn.tree import DecisionTreeClassifier\n",
    "\n",
    "warnings.filterwarnings(\"ignore\")\n",
    "\n",
    "#given training set, so no need to train_test_split\n",
    "X_train = df['text_processed'].values\n",
    "y_train = df['target'].values\n",
    "\n",
    "#create pipeline and parameters\n",
    "pipe_dt = Pipeline([('vect', TfidfVectorizer()),\n",
    "                     ('dt', DecisionTreeClassifier())\n",
    "])\n",
    "\n",
    "param_grid = {\n",
    "    'vect__max_df': [0.5, 0.75, 1.0],\n",
    "    'vect__max_features': [None, 2500, 5000, 7500],\n",
    "    'vect__ngram_range': [(1, 1), (1, 2)],\n",
    "    'dt__max_depth': [5,10,15]\n",
    "}\n",
    "\n",
    "\n",
    "gs_pipe_dt = GridSearchCV(estimator=pipe_dt,param_grid=param_grid,cv=2,n_jobs=-1,scoring='f1')\n",
    "gs_pipe_dt.fit(X_train,y_train)\n",
    "\n",
    "\n",
    "print(f'best parameters  : {gs_pipe_dt.best_params_}')\n",
    "print(f'best cv accuracy : {gs_pipe_dt.best_score_.round(2):0.2f}')"
   ]
  },
  {
   "cell_type": "markdown",
   "id": "0680386f",
   "metadata": {
    "papermill": {
     "duration": 0.017395,
     "end_time": "2023-12-26T05:02:10.313642",
     "exception": false,
     "start_time": "2023-12-26T05:02:10.296247",
     "status": "completed"
    },
    "tags": []
   },
   "source": [
    "With the best parameters and better accuracy, we can evaluate our test set."
   ]
  },
  {
   "cell_type": "markdown",
   "id": "531b7340",
   "metadata": {
    "papermill": {
     "duration": 0.014954,
     "end_time": "2023-12-26T05:02:10.345170",
     "exception": false,
     "start_time": "2023-12-26T05:02:10.330216",
     "status": "completed"
    },
    "tags": []
   },
   "source": [
    "**Part IV: Model Evaluation**"
   ]
  },
  {
   "cell_type": "code",
   "execution_count": 19,
   "id": "99243cf4",
   "metadata": {
    "execution": {
     "iopub.execute_input": "2023-12-26T05:02:10.376748Z",
     "iopub.status.busy": "2023-12-26T05:02:10.376251Z",
     "iopub.status.idle": "2023-12-26T05:02:10.503147Z",
     "shell.execute_reply": "2023-12-26T05:02:10.501742Z"
    },
    "papermill": {
     "duration": 0.146201,
     "end_time": "2023-12-26T05:02:10.506125",
     "exception": false,
     "start_time": "2023-12-26T05:02:10.359924",
     "status": "completed"
    },
    "tags": []
   },
   "outputs": [],
   "source": [
    "# Applying the same transformations to the test dataset:\n",
    "dft = pd.read_csv(\"/kaggle/input/natural-language-processing-with-disaster-tweets/test.csv\")\n",
    "\n",
    "dft['text'] = dft['text'].apply(preprocessing)\n",
    "X_test = dft['text']\n",
    "\n",
    "est = gs_pipe_dt.best_estimator_\n",
    "predictions = est.predict(X_test)"
   ]
  },
  {
   "cell_type": "code",
   "execution_count": 20,
   "id": "2da0be04",
   "metadata": {
    "execution": {
     "iopub.execute_input": "2023-12-26T05:02:10.538228Z",
     "iopub.status.busy": "2023-12-26T05:02:10.537750Z",
     "iopub.status.idle": "2023-12-26T05:02:10.555274Z",
     "shell.execute_reply": "2023-12-26T05:02:10.554156Z"
    },
    "papermill": {
     "duration": 0.036086,
     "end_time": "2023-12-26T05:02:10.557839",
     "exception": false,
     "start_time": "2023-12-26T05:02:10.521753",
     "status": "completed"
    },
    "tags": []
   },
   "outputs": [],
   "source": [
    "final_df = pd.DataFrame({\n",
    "    'id': dft['id'],\n",
    "    'target': predictions\n",
    "})\n",
    "\n",
    "final_df.to_csv('submission.csv',index=False)"
   ]
  },
  {
   "cell_type": "code",
   "execution_count": 21,
   "id": "6d870e2d",
   "metadata": {
    "execution": {
     "iopub.execute_input": "2023-12-26T05:02:10.591140Z",
     "iopub.status.busy": "2023-12-26T05:02:10.590025Z",
     "iopub.status.idle": "2023-12-26T05:02:10.601899Z",
     "shell.execute_reply": "2023-12-26T05:02:10.600670Z"
    },
    "papermill": {
     "duration": 0.031284,
     "end_time": "2023-12-26T05:02:10.604501",
     "exception": false,
     "start_time": "2023-12-26T05:02:10.573217",
     "status": "completed"
    },
    "tags": []
   },
   "outputs": [
    {
     "data": {
      "text/html": [
       "<div>\n",
       "<style scoped>\n",
       "    .dataframe tbody tr th:only-of-type {\n",
       "        vertical-align: middle;\n",
       "    }\n",
       "\n",
       "    .dataframe tbody tr th {\n",
       "        vertical-align: top;\n",
       "    }\n",
       "\n",
       "    .dataframe thead th {\n",
       "        text-align: right;\n",
       "    }\n",
       "</style>\n",
       "<table border=\"1\" class=\"dataframe\">\n",
       "  <thead>\n",
       "    <tr style=\"text-align: right;\">\n",
       "      <th></th>\n",
       "      <th>id</th>\n",
       "      <th>target</th>\n",
       "    </tr>\n",
       "  </thead>\n",
       "  <tbody>\n",
       "    <tr>\n",
       "      <th>0</th>\n",
       "      <td>0</td>\n",
       "      <td>0</td>\n",
       "    </tr>\n",
       "    <tr>\n",
       "      <th>1</th>\n",
       "      <td>2</td>\n",
       "      <td>0</td>\n",
       "    </tr>\n",
       "    <tr>\n",
       "      <th>2</th>\n",
       "      <td>3</td>\n",
       "      <td>1</td>\n",
       "    </tr>\n",
       "    <tr>\n",
       "      <th>3</th>\n",
       "      <td>9</td>\n",
       "      <td>0</td>\n",
       "    </tr>\n",
       "    <tr>\n",
       "      <th>4</th>\n",
       "      <td>11</td>\n",
       "      <td>0</td>\n",
       "    </tr>\n",
       "  </tbody>\n",
       "</table>\n",
       "</div>"
      ],
      "text/plain": [
       "   id  target\n",
       "0   0       0\n",
       "1   2       0\n",
       "2   3       1\n",
       "3   9       0\n",
       "4  11       0"
      ]
     },
     "execution_count": 21,
     "metadata": {},
     "output_type": "execute_result"
    }
   ],
   "source": [
    "final_df.head(5)"
   ]
  },
  {
   "cell_type": "code",
   "execution_count": 22,
   "id": "11abf8af",
   "metadata": {
    "execution": {
     "iopub.execute_input": "2023-12-26T05:02:10.637138Z",
     "iopub.status.busy": "2023-12-26T05:02:10.636726Z",
     "iopub.status.idle": "2023-12-26T05:02:12.125147Z",
     "shell.execute_reply": "2023-12-26T05:02:12.123779Z"
    },
    "papermill": {
     "duration": 1.508679,
     "end_time": "2023-12-26T05:02:12.128166",
     "exception": false,
     "start_time": "2023-12-26T05:02:10.619487",
     "status": "completed"
    },
    "tags": []
   },
   "outputs": [
    {
     "name": "stdout",
     "output_type": "stream",
     "text": [
      "Traceback (most recent call last):\r\n",
      "  File \"/opt/conda/bin/kaggle\", line 5, in <module>\r\n",
      "    from kaggle.cli import main\r\n",
      "  File \"/opt/conda/lib/python3.10/site-packages/kaggle/__init__.py\", line 23, in <module>\r\n",
      "    api.authenticate()\r\n",
      "  File \"/opt/conda/lib/python3.10/site-packages/kaggle/api/kaggle_api_extended.py\", line 403, in authenticate\r\n",
      "    raise IOError('Could not find {}. Make sure it\\'s located in'\r\n",
      "OSError: Could not find kaggle.json. Make sure it's located in /root/.kaggle. Or use the environment method.\r\n"
     ]
    }
   ],
   "source": [
    "!kaggle competitions submit -c nlp-getting-started -f submission.csv -m \"Message\""
   ]
  },
  {
   "cell_type": "markdown",
   "id": "859cac00",
   "metadata": {
    "papermill": {
     "duration": 0.015259,
     "end_time": "2023-12-26T05:02:12.159302",
     "exception": false,
     "start_time": "2023-12-26T05:02:12.144043",
     "status": "completed"
    },
    "tags": []
   },
   "source": []
  },
  {
   "cell_type": "markdown",
   "id": "b5e91639",
   "metadata": {
    "papermill": {
     "duration": 0.014696,
     "end_time": "2023-12-26T05:02:12.189123",
     "exception": false,
     "start_time": "2023-12-26T05:02:12.174427",
     "status": "completed"
    },
    "tags": []
   },
   "source": []
  }
 ],
 "metadata": {
  "kaggle": {
   "accelerator": "none",
   "dataSources": [
    {
     "databundleVersionId": 5211014,
     "sourceId": 49330,
     "sourceType": "competition"
    }
   ],
   "dockerImageVersionId": 30626,
   "isGpuEnabled": false,
   "isInternetEnabled": true,
   "language": "python",
   "sourceType": "notebook"
  },
  "kernelspec": {
   "display_name": "Python 3",
   "language": "python",
   "name": "python3"
  },
  "language_info": {
   "codemirror_mode": {
    "name": "ipython",
    "version": 3
   },
   "file_extension": ".py",
   "mimetype": "text/x-python",
   "name": "python",
   "nbconvert_exporter": "python",
   "pygments_lexer": "ipython3",
   "version": "3.10.12"
  },
  "papermill": {
   "default_parameters": {},
   "duration": 44.209023,
   "end_time": "2023-12-26T05:02:14.826787",
   "environment_variables": {},
   "exception": null,
   "input_path": "__notebook__.ipynb",
   "output_path": "__notebook__.ipynb",
   "parameters": {},
   "start_time": "2023-12-26T05:01:30.617764",
   "version": "2.4.0"
  }
 },
 "nbformat": 4,
 "nbformat_minor": 5
}
